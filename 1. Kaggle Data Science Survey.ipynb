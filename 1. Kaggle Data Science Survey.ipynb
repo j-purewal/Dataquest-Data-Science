{
 "cells": [
  {
   "cell_type": "code",
   "execution_count": null,
   "metadata": {},
   "outputs": [],
   "source": []
  },
  {
   "cell_type": "markdown",
   "metadata": {},
   "source": [
    "This is a project to clean and analyse Kaggle data"
   ]
  },
  {
   "cell_type": "code",
   "execution_count": 4,
   "metadata": {},
   "outputs": [
    {
     "name": "stdout",
     "output_type": "stream",
     "text": [
      "Number of R users: 5335\n",
      "Proportion of R users: 0.20540561352173412\n",
      "Number of Python users: 21860\n",
      "Proportion of Python users: 0.8416432449081739\n",
      "Number of SQL users: 10757\n",
      "Proportion of SQL users: 0.4141608593539445\n"
     ]
    }
   ],
   "source": [
    "import csv\n",
    "\n",
    "with open('kaggle2021-short.csv') as f:\n",
    "    reader = csv.reader(f, delimiter=\",\")\n",
    "    kaggle_data = list(reader)\n",
    "\n",
    "column_names = kaggle_data[0]\n",
    "survey_responses = kaggle_data[1:]\n",
    "\n",
    "num_rows = len(survey_responses)\n",
    "for i in range(num_rows):\n",
    "    survey_responses[i][0] = float(survey_responses[i][0])\n",
    "    survey_responses[i][4] = str(survey_responses[i][4]) \n",
    "    survey_responses[i][5] = int(survey_responses[i][5]) \n",
    "    if survey_responses[i][1] == \"TRUE\":\n",
    "        survey_responses[i][1] = True\n",
    "    else:\n",
    "        survey_responses[i][1] = False\n",
    "    if survey_responses[i][2] == \"TRUE\":\n",
    "        survey_responses[i][2] = True\n",
    "    else:\n",
    "        survey_responses[i][2] = False\n",
    "    if survey_responses[i][3] == \"TRUE\":\n",
    "        survey_responses[i][3] = True\n",
    "    else:\n",
    "        survey_responses[i][3] = False\n",
    "        \n",
    "R_experience = 0\n",
    "Python_experience = 0\n",
    "SQL_experience = 0\n",
    "\n",
    "for i in range(num_rows):\n",
    "    if survey_responses[i][1] == True:\n",
    "        Python_experience +=1\n",
    "    if survey_responses[i][2] == True:\n",
    "        R_experience +=1\n",
    "    if survey_responses[i][3] == True:\n",
    "        SQL_experience +=1\n",
    "\n",
    "R_proportion = R_experience / num_rows\n",
    "Python_proportion = Python_experience / num_rows\n",
    "SQL_proportion = SQL_experience / num_rows\n",
    "\n",
    "R_experience_string = print(\"Number of R users: \" + str(R_experience))\n",
    "R_proportion_string = print(\"Proportion of R users: \" + str(R_proportion))\n",
    "\n",
    "Python_experience_string = print(\"Number of Python users: \" + str(Python_experience))\n",
    "Python_proportion_string = print(\"Proportion of Python users: \" + str(Python_proportion))\n",
    "\n",
    "SQL_experience_string = print(\"Number of SQL users: \" + str(SQL_experience))\n",
    "SQL_proportion_string = print(\"Proportion of SQL users: \" + str(SQL_proportion))\n"
   ]
  },
  {
   "cell_type": "code",
   "execution_count": 7,
   "metadata": {},
   "outputs": [
    {
     "name": "stdout",
     "output_type": "stream",
     "text": [
      "The minimum years of coding experience is 0.0 years.\n",
      "The maxmimum years of coding experience is 30.0 years.\n",
      "The average years of coding experience is 5.297231740653729 years.\n"
     ]
    }
   ],
   "source": [
    "experience_coding_list = []\n",
    "compensation_list = []\n",
    "\n",
    "for i in range(num_rows):\n",
    "    experience_coding_list.append(survey_responses[i][0])\n",
    "    compensation_list.append(survey_responses[i][5])\n",
    "\n",
    "min_experience_coding = min(experience_coding_list)\n",
    "max_experience_coding = max(experience_coding_list)\n",
    "avg_years_experience_coding = sum(experience_coding_list) / num_rows\n",
    "\n",
    "min_coding_summary = \"The minimum years of coding experience is \" + str(min_experience_coding) + \" years.\"\n",
    "max_coding_summary = \"The maxmimum years of coding experience is \" + str(max_experience_coding) + \" years.\"\n",
    "average_coding_summary = \"The average years of coding experience is \" + str(avg_years_experience_coding) + \" years.\"\n",
    "\n",
    "print(coding_summary)\n",
    "print(max_coding_summary)\n",
    "print(average_coding_summary)"
   ]
  },
  {
   "cell_type": "code",
   "execution_count": 12,
   "metadata": {},
   "outputs": [
    {
     "name": "stdout",
     "output_type": "stream",
     "text": [
      "The minimum amount of compensation is 0\n",
      "The maxmimum amount of compensation is 1492951\n",
      "The average amount of compensation is 53252.81696377007\n"
     ]
    }
   ],
   "source": [
    "min_compensation = min(compensation_list)\n",
    "max_compensation = max(compensation_list)\n",
    "avg_compensation = sum(compensation_list) / num_rows\n",
    "\n",
    "min_compensation_summary = \"The minimum amount of compensation is \" + str(min_compensation)\n",
    "max_compensation_summary = \"The maxmimum amount of compensation is \" + str(max_compensation)\n",
    "avg_compensation_summary = \"The average amount of compensation is \" + str(avg_compensation)\n",
    "\n",
    "print(min_compensation_summary)\n",
    "print(max_compensation_summary)\n",
    "print(avg_compensation_summary)"
   ]
  },
  {
   "cell_type": "code",
   "execution_count": 17,
   "metadata": {},
   "outputs": [],
   "source": [
    "for i in range(num_rows):\n",
    "\n",
    "    if survey_responses[i][0] < 5:\n",
    "        survey_responses[i].append(\"<5 Years\")\n",
    "    \n",
    "    elif survey_responses[i][0] >= 5 and survey_responses[i][0] < 10:\n",
    "        survey_responses[i].append(\"5-10 Years\")\n",
    "\n",
    "    elif survey_responses[i][0] >= 10 and survey_responses[i][0] < 15:\n",
    "        survey_responses[i].append(\"10-15 Years\")\n",
    "    \n",
    "    elif survey_responses[i][0] >= 15 and survey_responses[i][0] < 20:\n",
    "        survey_responses[i].append(\"15-20 Years\")\n",
    "\n",
    "    elif survey_responses[i][0] >= 20 and survey_responses[i][0] < 25:\n",
    "        survey_responses[i].append(\"20-25 Years\")\n",
    "    \n",
    "    else:\n",
    "        survey_responses[i].append(\"25+ Years\")\n",
    "\n",
    "less_than_5_years = []\n",
    "from_5_to_10_years = []\n",
    "from_10_to_15_years = []\n",
    "from_15_to_20_years = []\n",
    "from_20_to_25_years = []\n",
    "more_than_25_years = []\n",
    "\n",
    "for i in range(num_rows):\n",
    "    \n",
    "    if survey_responses[i][6] == \"<5 Years\":\n",
    "        less_than_5_years.append(survey_responses[i][5])\n",
    "    \n",
    "    elif survey_responses[i][6] == \"5-10 Years\":\n",
    "        from_5_to_10_years.append(survey_responses[i][5])\n",
    "    \n",
    "    elif survey_responses[i][6] == \"10-15 Years\":\n",
    "        from_10_to_15_years.append(survey_responses[i][5])\n",
    "    \n",
    "    elif survey_responses[i][6] == \"15-20 Years\":\n",
    "        from_15_to_20_years.append(survey_responses[i][5])\n",
    "    \n",
    "    elif survey_responses[i][6] == \"20-25 Years\":\n",
    "        from_20_to_25_years.append(survey_responses[i][5])\n",
    "\n",
    "    else:\n",
    "        more_than_25_years.append(survey_responses[i][5])"
   ]
  },
  {
   "cell_type": "code",
   "execution_count": 19,
   "metadata": {},
   "outputs": [
    {
     "name": "stdout",
     "output_type": "stream",
     "text": [
      "People with < 5 years of experience: 18753\n",
      "People with 5 - 10 years of experience: 3167\n",
      "People with 10 - 15 years of experience: 1118\n",
      "People with 15 - 20 years of experience: 1069\n",
      "People with 20 - 25 years of experience: 925\n",
      "People with 25+ years of experience: 941\n"
     ]
    }
   ],
   "source": [
    "print(\"People with < 5 years of experience: \" + str(len(less_than_5_years)))\n",
    "print(\"People with 5 - 10 years of experience: \" + str(len(from_5_to_10_years)))\n",
    "print(\"People with 10 - 15 years of experience: \" + str(len(from_10_to_15_years)))\n",
    "print(\"People with 15 - 20 years of experience: \" + str(len(from_15_to_20_years)))\n",
    "print(\"People with 20 - 25 years of experience: \" + str(len(from_20_to_25_years)))\n",
    "print(\"People with 25+ years of experience: \" + str(len(more_than_25_years)))"
   ]
  },
  {
   "cell_type": "code",
   "execution_count": 20,
   "metadata": {},
   "outputs": [
    {
     "name": "stdout",
     "output_type": "stream",
     "text": [
      "Average salary of people with < 5 years of experience: 45047.87484669119\n",
      "Average salary of people with 5 - 10 years of experience: 59312.82033470161\n",
      "Average salary of people with 10 - 15 years of experience: 80226.75581395348\n",
      "Average salary of people with 15 - 20 years of experience: 75101.82694106642\n",
      "Average salary of people with 20 - 25 years of experience: 103159.80432432433\n",
      "Average salary of people with 25+ years of experience: 90444.98512221042\n"
     ]
    }
   ],
   "source": [
    "print(\"Average salary of people with < 5 years of experience: \" + str(sum(less_than_5_years) / len(less_than_5_years)))\n",
    "print(\"Average salary of people with 5 - 10 years of experience: \" + str(sum(from_5_to_10_years) / len(from_5_to_10_years)))\n",
    "print(\"Average salary of people with 10 - 15 years of experience: \" + str(sum(from_10_to_15_years) / len(from_10_to_15_years)))\n",
    "print(\"Average salary of people with 15 - 20 years of experience: \" + str(sum(from_15_to_20_years) / len(from_15_to_20_years)))\n",
    "print(\"Average salary of people with 20 - 25 years of experience: \" + str(sum(from_20_to_25_years) / len(from_20_to_25_years)))\n",
    "print(\"Average salary of people with 25+ years of experience: \" + str(sum(more_than_25_years) / len(more_than_25_years)))"
   ]
  },
  {
   "cell_type": "markdown",
   "metadata": {},
   "source": [
    "Summary\n",
    "\n",
    "-Most pBased on the number of people in each experience category, most of the people who took the survey have just started their career. Over 18,000 people have less than five years of experience coding. The next-highest category is the journeymen, with 5-10 years of experience. After that, there are several people in each of the long-term programmers who have more than 10 years of experience.\n",
    "\n",
    "Average salary seems to increase with experience, but this increase doesn't seem to be linear. There are times when the average salary dips when we move into a category of higher experience. There might be several reasons why this happens, but we don't have any data to help explain this. Overall, being a data professional provides a solid living, based on the reported data."
   ]
  }
 ],
 "metadata": {
  "kernelspec": {
   "display_name": "Python 3 (ipykernel)",
   "language": "python",
   "name": "python3"
  },
  "language_info": {
   "codemirror_mode": {
    "name": "ipython",
    "version": 3
   },
   "file_extension": ".py",
   "mimetype": "text/x-python",
   "name": "python",
   "nbconvert_exporter": "python",
   "pygments_lexer": "ipython3",
   "version": "3.10.6"
  }
 },
 "nbformat": 4,
 "nbformat_minor": 4
}
